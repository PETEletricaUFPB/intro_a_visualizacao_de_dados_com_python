{
 "cells": [
  {
   "cell_type": "markdown",
   "metadata": {},
   "source": [
    "<img src=\"./tema_google.PNG\">"
   ]
  },
  {
   "cell_type": "markdown",
   "metadata": {},
   "source": [
    "# Biblioteca Plotly\n",
    "___\n",
    "\n",
    "<p style=\"text-align: right\">\n",
    "    <strong>Ministrante:</strong> Miguel Marques Ferreira\n",
    "    <br>\n",
    "    <strong>E-mail:</strong> miguel.marques@cear.ufpb.br\n",
    "    <br>\n",
    "    <br>\n",
    "    <strong>Data:</strong> --\\11\\2021\n",
    "    </p>"
   ]
  },
  {
   "cell_type": "markdown",
   "metadata": {},
   "source": [
    "## O que é e quais características?\n",
    "\n",
    "1. plotly.py é open-source;\n",
    "   1. https://github.com/plotly\n",
    "2. Construida em cima de uma biblioteca plotly em JavaScrypt (plotly.js);\n",
    "3. Integrada com o utilitário de exportaçao de imagens ORCA (atualização \"recente\");\n",
    "4. Suporta construção de inúmeros tipos de graficos. Ex.: científico, estatístico, financeiro, gráficos em 2D e 3D, mapas, etc;\n",
    "5. Aplicações fora e dentro da web.\n",
    "6. Permite ao usario criar visualizações com um visual atrativo e interativos!"
   ]
  },
  {
   "cell_type": "markdown",
   "metadata": {},
   "source": [
    "### Exemplos"
   ]
  },
  {
   "cell_type": "markdown",
   "metadata": {},
   "source": [
    "<img src=\"./images/ex1_grafico.png\">"
   ]
  },
  {
   "cell_type": "markdown",
   "metadata": {},
   "source": [
    "<img src=\"./images/ex2_graficoDeBarras.png\">"
   ]
  },
  {
   "cell_type": "markdown",
   "metadata": {},
   "source": [
    "<img src=\"./images/ex3_graficoSubs.png\">"
   ]
  },
  {
   "cell_type": "markdown",
   "metadata": {},
   "source": [
    "<img src=\"./images/ex4_mapaPB.png\">"
   ]
  },
  {
   "cell_type": "markdown",
   "metadata": {},
   "source": [
    "## Vamos criar nossa primeira figura!\n",
    "\n",
    "#### Antes, é preciso configurarmos nossas máquinas de forma que apresentem as mesmas versões de bibliotecas Plotly instaladas em um ambiente virtual conda. **Link da aula:** [link da aula sobre ambientes virtuais](https://github.com/PETEletricaUFPB/intro_a_manipulacao_de_dados_com_python/blob/main/notebooks/Aula%205%20-%20Ambientes%20Virtuais%20e%20Jupyter%20Notebook.ipynb)\n",
    "\n",
    "**Caso seu ambiente virtual não apareca no Jupyter Notebook:** `conda install -c conda-forge --name cursoPETvisualizacao ipykernel -y`\n",
    "\n"
   ]
  },
  {
   "cell_type": "code",
   "execution_count": null,
   "metadata": {},
   "outputs": [],
   "source": []
  },
  {
   "cell_type": "markdown",
   "metadata": {},
   "source": [
    "### Como exibir Figuras "
   ]
  },
  {
   "cell_type": "markdown",
   "metadata": {},
   "source": [
    "1. **Renderização (scrypt/note):**\n",
    "   1. Os gráficos criados com [Orca](https://plotly.com/python/orca-management/) são imagens estáticas.\n",
    "      1. Uma vez que um gráfico estático foi criado, é possível exporta-la utilizando o comando `fig.write_image('nome_da_imagem.svg')`\n",
    "   2. Os gráficos interativos são feitos a partir da biblioteca plotly.js\n",
    "   \n",
    "2. **Dash (web):**\n",
    "   1. Dash é um framework que foi desenvolvido pra possibilar as aplicações da biblioteca plotly.py em aplicações web.\n",
    "   2. _**O uso do dash não será discutido aqui/hoje.**_\n",
    "   \n",
    "3. **Figurewidget:**\n",
    "   1. (ipywidgets = controles interativos)\n"
   ]
  },
  {
   "cell_type": "code",
   "execution_count": null,
   "metadata": {},
   "outputs": [],
   "source": []
  },
  {
   "cell_type": "markdown",
   "metadata": {},
   "source": [
    "### Renderização de imagens estáticas no scrypt/notebook\n",
    "\n",
    "1. Para exibir uma figura em um script (.py) ou notebook (.ipynb), precisamos do framework `renderers` que permite essa tarefa ser executada;\n",
    "2. É necessário definir a figura desejada a partir da função `Figure()` do módulo graph_objects\n",
    "3. `fig.show()` ou apenas fig exibem a figura;\n",
    "   \n",
    "**Link de apoio:** https://plotly.com/python/renderers/"
   ]
  },
  {
   "cell_type": "code",
   "execution_count": null,
   "metadata": {},
   "outputs": [],
   "source": []
  },
  {
   "cell_type": "markdown",
   "metadata": {},
   "source": [
    "### Estrutura de uma Figura"
   ]
  },
  {
   "cell_type": "markdown",
   "metadata": {},
   "source": [
    "Imaginando um objeto Figure como uma árvore, cada nó nessa árvore nos leva a um galho (parte superior) e, assim, cada galho é um atributo. Por outro lado, a árvore possúi raizes (parte inferior) que podemos considerar os atributos principais da árvore. Por fim, para as raizes, cada nó superíor funciona como subatributos de cada atributo principal da árvore.\n",
    "\n",
    "Nesse caso, as 3 principais raizes de um objeto Figure são:\n",
    "1. `data`\n",
    "2. `layout`\n",
    "3. `frames`\n",
    "\n",
    "Vamos voltar ao objeto criado anteriormente..."
   ]
  },
  {
   "cell_type": "code",
   "execution_count": null,
   "metadata": {},
   "outputs": [],
   "source": []
  },
  {
   "cell_type": "markdown",
   "metadata": {},
   "source": [
    "**Exemplo de como podemos acessar elementos de um Figure e como a estrutura de uma Figure se equipara a um dicionário**\n",
    "\n",
    "**Link de apoio:** https://plotly.com/python/axes/"
   ]
  },
  {
   "cell_type": "code",
   "execution_count": null,
   "metadata": {},
   "outputs": [],
   "source": []
  },
  {
   "cell_type": "markdown",
   "metadata": {},
   "source": [
    "### Além do módulo `graph_objects`, pode ser usado a ferramenta `express`.\n",
    "\n",
    "Incialmente, o módulo `express` é recomendado para inciar a utilização da ferramenta Plotly por ser de fácil utilização. Por trás dos panos, o que ocorre é que cada função desse módulo utiliza internamente e retorna um `plotly.graph_objects`.\n",
    "\n",
    "Principais vantagens:\n",
    "1. Qualquer função criada utilizando uma única função com Plotly Express pode ser criada com o Graph Objects, mas com 5x ou até 100x menos linhas de código;\n",
    "2. Possui mais de 30 funções para criar diferentes tipos de figuras;\n",
    "3. Quando não precisar criar figuras de forma rápida e simples, vale a pena utilizar o `módulo graph_objects`\n",
    "   \n",
    "\n",
    "**Link de apoio:** https://plotly.com/python/plotly-express/"
   ]
  },
  {
   "cell_type": "code",
   "execution_count": null,
   "metadata": {},
   "outputs": [],
   "source": []
  },
  {
   "cell_type": "markdown",
   "metadata": {},
   "source": [
    "## Adicionando elementos no grafico"
   ]
  },
  {
   "cell_type": "code",
   "execution_count": null,
   "metadata": {},
   "outputs": [],
   "source": []
  },
  {
   "cell_type": "markdown",
   "metadata": {},
   "source": [
    "Em `fig.add_trace()` está sendo adiconado ao grafico da célula acima uma reta com as coordenadas especificadas dentro de go.scatter\n",
    "* `mode` define o tipo de estrutura a ser adicionada \n",
    "* Ainda é possivel determinar a cor desse novo objeto\n",
    "* Em showlegend define-se se será ou não exibido uma legenda para o novo elemento!"
   ]
  },
  {
   "cell_type": "code",
   "execution_count": null,
   "metadata": {},
   "outputs": [],
   "source": []
  },
  {
   "cell_type": "markdown",
   "metadata": {},
   "source": [
    "## Criando gráficos a partir de arquivos"
   ]
  },
  {
   "cell_type": "code",
   "execution_count": null,
   "metadata": {},
   "outputs": [],
   "source": []
  },
  {
   "cell_type": "markdown",
   "metadata": {},
   "source": [
    "### Arquivo 1"
   ]
  },
  {
   "cell_type": "code",
   "execution_count": null,
   "metadata": {},
   "outputs": [],
   "source": []
  },
  {
   "cell_type": "markdown",
   "metadata": {},
   "source": [
    "##### O arquivo .csv tem 21 colunas, vou ter que adicionar coluna por coluna a figura?\n",
    "\n",
    "Desafio (5min) - Tente inserir todas as colunas com dados do meu DataFrame `df` de forma prática e rápida.\n",
    "\n",
    "**Dica:** Como é uma atividade repetitiva e o eixo x é sempre a mesma coluna `index`, utilize o seu conhecimento em Python para simplificar o processo de inserção das colunas a figura.\n",
    "**Dica:** Você consegue pegar todas as colunas do DataFrame fazendo df.columns, comando que irá te retornar um array com todos os títulos do DataFrame."
   ]
  },
  {
   "cell_type": "code",
   "execution_count": null,
   "metadata": {},
   "outputs": [],
   "source": []
  },
  {
   "cell_type": "markdown",
   "metadata": {},
   "source": [
    "##### Como vou saber o que cada trace X significa? O que fazer para resolver isso?"
   ]
  },
  {
   "cell_type": "code",
   "execution_count": null,
   "metadata": {},
   "outputs": [],
   "source": []
  },
  {
   "cell_type": "markdown",
   "metadata": {},
   "source": [
    "##### É vísível que essa figura tem muito espaço perdido nas bordas e falta alguns elementos como título dos eixos e do gráfico. Qual atributo da figura podemos modificar para estilizar o objeto Figure?"
   ]
  },
  {
   "cell_type": "markdown",
   "metadata": {},
   "source": [
    "##### Margens"
   ]
  },
  {
   "cell_type": "code",
   "execution_count": null,
   "metadata": {},
   "outputs": [],
   "source": []
  },
  {
   "cell_type": "markdown",
   "metadata": {},
   "source": [
    "##### Título do Gráfico"
   ]
  },
  {
   "cell_type": "code",
   "execution_count": null,
   "metadata": {},
   "outputs": [],
   "source": []
  },
  {
   "cell_type": "markdown",
   "metadata": {},
   "source": [
    "##### Título do Eixo X e Y"
   ]
  },
  {
   "cell_type": "code",
   "execution_count": null,
   "metadata": {},
   "outputs": [],
   "source": []
  },
  {
   "cell_type": "code",
   "execution_count": null,
   "metadata": {},
   "outputs": [],
   "source": []
  },
  {
   "cell_type": "markdown",
   "metadata": {},
   "source": [
    "### Arquivo 2"
   ]
  },
  {
   "cell_type": "code",
   "execution_count": null,
   "metadata": {},
   "outputs": [],
   "source": []
  },
  {
   "cell_type": "markdown",
   "metadata": {},
   "source": [
    "Quero um retangulo que envolva as regições de polarização direta e reversa..."
   ]
  },
  {
   "cell_type": "code",
   "execution_count": null,
   "metadata": {},
   "outputs": [],
   "source": []
  },
  {
   "cell_type": "markdown",
   "metadata": {},
   "source": [
    "##### E se quisessemos dividir as duas polarizações em dois gráficos lado a lado? Podemos criar subplots..."
   ]
  },
  {
   "cell_type": "code",
   "execution_count": null,
   "metadata": {},
   "outputs": [],
   "source": []
  },
  {
   "cell_type": "markdown",
   "metadata": {},
   "source": [
    "### Arquivo 3"
   ]
  },
  {
   "cell_type": "code",
   "execution_count": null,
   "metadata": {},
   "outputs": [],
   "source": []
  },
  {
   "cell_type": "markdown",
   "metadata": {},
   "source": [
    "#### É necessário padronizar as datas com o formato %Y/%m/%d %H:%M:%S\n",
    "\n",
    "**Link de apoio:** https://plotly.com/python/time-series/#time-series-using-axes-of-type-date"
   ]
  },
  {
   "cell_type": "code",
   "execution_count": null,
   "metadata": {},
   "outputs": [],
   "source": []
  },
  {
   "cell_type": "markdown",
   "metadata": {},
   "source": [
    "Desafio - Aumentar o número de _ticks_ no eixo x, ou seja, mostrar pelo o número dos dias pares do mês de Janeiro de 2009.\n",
    "\n",
    "**Link de Apoio:** https://plotly.com/python/axes/"
   ]
  },
  {
   "cell_type": "code",
   "execution_count": null,
   "metadata": {},
   "outputs": [],
   "source": []
  },
  {
   "cell_type": "markdown",
   "metadata": {},
   "source": [
    "## O objeto `config` para ajustes na visualização\n",
    "\n",
    "**Link de Apoio:** https://plotly.com/python/configuration-options/"
   ]
  },
  {
   "cell_type": "code",
   "execution_count": null,
   "metadata": {},
   "outputs": [],
   "source": []
  },
  {
   "cell_type": "markdown",
   "metadata": {},
   "source": [
    "## Expotando Figuras em diferentes formatos"
   ]
  },
  {
   "cell_type": "code",
   "execution_count": null,
   "metadata": {},
   "outputs": [],
   "source": []
  },
  {
   "cell_type": "markdown",
   "metadata": {},
   "source": [
    "## Tabelas com a biblioteca Plolty"
   ]
  },
  {
   "cell_type": "code",
   "execution_count": null,
   "metadata": {},
   "outputs": [],
   "source": []
  }
 ],
 "metadata": {
  "interpreter": {
   "hash": "b80fbf475b67c92c4c6593cc91b80cfd4a5b7fd6b0a8856444922be21e91ce83"
  },
  "kernelspec": {
   "display_name": "Python 3",
   "language": "python",
   "name": "python3"
  },
  "language_info": {
   "codemirror_mode": {
    "name": "ipython",
    "version": 3
   },
   "file_extension": ".py",
   "mimetype": "text/x-python",
   "name": "python",
   "nbconvert_exporter": "python",
   "pygments_lexer": "ipython3",
   "version": "3.8.11"
  }
 },
 "nbformat": 4,
 "nbformat_minor": 2
}
